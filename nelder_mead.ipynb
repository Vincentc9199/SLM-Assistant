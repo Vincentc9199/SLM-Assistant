{
 "cells": [
  {
   "cell_type": "code",
   "execution_count": null,
   "metadata": {},
   "outputs": [],
   "source": [
    "import numpy as np\n",
    "import matplotlib.pyplot as plt\n",
    "import matplotlib.patches as patches\n",
    "from mpl_toolkits.mplot3d import Axes3D\n",
    "import scipy.special as sp\n",
    "from scipy.optimize import curve_fit\n",
    "\n",
    "#import pandas as pd"
   ]
  },
  {
   "cell_type": "code",
   "execution_count": null,
   "metadata": {},
   "outputs": [],
   "source": [
    "# Connect to a camera and an SLM\n",
    "\n",
    "#cam.close()\n",
    "#slm.close()\n",
    "\n",
    "### Camera\n",
    "from slmsuite.hardware.cameras.thorlabs import ThorCam\n",
    "ThorCam.info(verbose=True)\n",
    "\n",
    "# Serial number is 23910 for the Zelux, apparently.\n",
    "cam = ThorCam(serial=\"23910\", verbose=True, fliplr=False) \n",
    "\n",
    "### SLM \n",
    "from slmsuite.hardware.slms.screenmirrored import ScreenMirrored\n",
    "ScreenMirrored.info(verbose=True)\n",
    "slm = ScreenMirrored(display_number = 1, wav_um=.589, wav_design_um = .700)\n",
    "\n",
    "### Make a composite optical system -- a Fourier pair.\n",
    "from slmsuite.hardware.cameraslms import FourierSLM\n",
    "fs = FourierSLM(cam, slm)\n",
    "#fs.load_wavefront_calibration(plot=True)"
   ]
  },
  {
   "cell_type": "code",
   "execution_count": null,
   "metadata": {},
   "outputs": [],
   "source": [
    "# Perform Fourier Calibration\n",
    "\n",
    "cam.set_exposure(0.012)\n",
    "fs.fourier_calibrate(array_shape=[5, 5], array_pitch=[30, 30], plot=True)\n",
    "\n",
    "cam.set_exposure(.002) # Restore exposure"
   ]
  },
  {
   "cell_type": "code",
   "execution_count": null,
   "metadata": {},
   "outputs": [],
   "source": [
    "# Create a simple array\n",
    "\n",
    "pitch = 20 # pixels\n",
    "\n",
    "xlist = np.arange(1000, 1060, pitch)\n",
    "ylist = np.arange(1000, 1060, pitch)\n",
    "xgrid, ygrid = np.meshgrid(xlist, ylist)\n",
    "square = np.vstack((xgrid.ravel(), ygrid.ravel()))\n",
    "\n",
    "plt.scatter(square[0, :], square[1, :], s=2)\n",
    "plt.xlim([0, fs.cam.shape[1]]); plt.ylim([fs.cam.shape[0], 0])\n",
    "plt.show()\n",
    "print(xlist)\n",
    "print(ylist)"
   ]
  },
  {
   "cell_type": "code",
   "execution_count": null,
   "metadata": {},
   "outputs": [],
   "source": [
    "# Ceate the hologram\n",
    "\n",
    "from slmsuite.holography.algorithms import SpotHologram\n",
    "hologram = SpotHologram(shape=(2048, 2048), spot_vectors=square, basis=\"ij\", cameraslm=fs)\n",
    "\n",
    "hologram.plot_farfield(hologram.target,  limits=[[800, 1200], [800, 1200]], title=\"Target\")"
   ]
  },
  {
   "cell_type": "code",
   "execution_count": null,
   "metadata": {},
   "outputs": [],
   "source": [
    "# Calculate Phase Pattern\n",
    "\n",
    "hologram.optimize('WGS-Kim', feedback='computational_spot', stat_groups=['computational_spot'], maxiter=50)\n",
    "hologram.plot_farfield(limits=[[800, 1200], [800, 1200]], title=\"After Optimization\")"
   ]
  },
  {
   "cell_type": "code",
   "execution_count": null,
   "metadata": {},
   "outputs": [],
   "source": [
    "# Write to the SLM and get camera image\n",
    "\n",
    "# Experimentally:\n",
    "fs.slm.write(hologram.extract_phase(), settle=True)             # Write hologram.\n",
    "fs.cam.set_exposure(.0015)\n",
    "fs.cam.flush()\n",
    "img = fs.cam.get_image()                                        # Grab image.\n",
    "\n",
    "plt.figure(figsize=(24,24));    plt.imshow(img, vmax=50)        # This is saturated for visibility.\n",
    "plt.xlabel(\"Image $x$ [pix]\");  plt.ylabel(\"Image $y$ [pix]\")\n",
    "plt.show()"
   ]
  },
  {
   "cell_type": "code",
   "execution_count": null,
   "metadata": {},
   "outputs": [],
   "source": [
    "# Create bounding boxes\n",
    "\n"
   ]
  }
 ],
 "metadata": {
  "kernelspec": {
   "display_name": ".venv",
   "language": "python",
   "name": "python3"
  },
  "language_info": {
   "codemirror_mode": {
    "name": "ipython",
    "version": 3
   },
   "file_extension": ".py",
   "mimetype": "text/x-python",
   "name": "python",
   "nbconvert_exporter": "python",
   "pygments_lexer": "ipython3",
   "version": "3.12.4"
  }
 },
 "nbformat": 4,
 "nbformat_minor": 2
}
